{
 "cells": [
  {
   "cell_type": "code",
   "execution_count": 1,
   "metadata": {},
   "outputs": [],
   "source": [
    "import pandas as pd\n",
    "from pathlib import Path"
   ]
  },
  {
   "cell_type": "code",
   "execution_count": null,
   "metadata": {},
   "outputs": [],
   "source": []
  },
  {
   "cell_type": "code",
   "execution_count": 13,
   "metadata": {},
   "outputs": [],
   "source": [
    "incidence_failure_path = Path(\"/Users/ahmedmansour/Desktop/Group-Project-3/Resources/incidence_rates/failure_incidence.csv\") \n",
    "incidence_failure = pd.read_csv(incidence_failure_path, encoding='ISO-8859-1')\n",
    "\n",
    "incidence_ischemic_path = Path(\"/Users/ahmedmansour/Desktop/Group-Project-3/Resources/incidence_rates/ischemic_incidence.csv\") \n",
    "incidence_ischemic = pd.read_csv(incidence_ischemic_path, encoding='ISO-8859-1')\n",
    "\n",
    "incidence_myocardial_path = Path(\"/Users/ahmedmansour/Desktop/Group-Project-3/Resources/incidence_rates/myocardial_incidence.csv\") \n",
    "incidence_myocardial = pd.read_csv(incidence_myocardial_path, encoding='ISO-8859-1')"
   ]
  },
  {
   "cell_type": "code",
   "execution_count": 14,
   "metadata": {},
   "outputs": [],
   "source": [
    "mortality_failure_path = Path(\"/Users/ahmedmansour/Desktop/Group-Project-3/Resources/mortality_rates/failure_mortality.csv\") \n",
    "mortality_failure = pd.read_csv(mortality_failure_path, encoding='ISO-8859-1')\n",
    "\n",
    "mortality_ischemic_path = Path(\"/Users/ahmedmansour/Desktop/Group-Project-3/Resources/mortality_rates/ischemic_mortality.csv\") \n",
    "mortality_ischemic = pd.read_csv(mortality_ischemic_path, encoding='ISO-8859-1')\n",
    "\n",
    "mortality_myocardial_path = Path(\"/Users/ahmedmansour/Desktop/Group-Project-3/Resources/mortality_rates/myocardial_mortality.csv\") \n",
    "mortality_myocardial = pd.read_csv(mortality_myocardial_path, encoding='ISO-8859-1')"
   ]
  },
  {
   "cell_type": "code",
   "execution_count": 15,
   "metadata": {},
   "outputs": [],
   "source": [
    "healthcare_spending_path = Path(\"/Users/ahmedmansour/Desktop/Group-Project-3/Resources/healthcare_spending.csv\") \n",
    "healthcare_spending = pd.read_csv(healthcare_spending_path, encoding='ISO-8859-1')"
   ]
  },
  {
   "cell_type": "code",
   "execution_count": 21,
   "metadata": {},
   "outputs": [],
   "source": [
    "alberta_risks_path = Path(\"/Users/ahmedmansour/Desktop/Group-Project-3/Resources/risk_factors/alberta_risks.csv\")\n",
    "alberta_risks = pd.read_csv(alberta_risks_path, encoding='ISO-8859-1', on_bad_lines='skip')\n",
    "\n",
    "bc_risks_path = Path(\"/Users/ahmedmansour/Desktop/Group-Project-3/Resources/risk_factors/bc_risks.csv\")\n",
    "bc_risks = pd.read_csv(bc_risks_path, encoding='ISO-8859-1', on_bad_lines='skip')\n",
    "\n",
    "manitoba_risks_path = Path(\"/Users/ahmedmansour/Desktop/Group-Project-3/Resources/risk_factors/manitoba_risks.csv\")\n",
    "manitoba_risks = pd.read_csv(manitoba_risks_path, encoding='ISO-8859-1', on_bad_lines='skip')\n",
    "\n",
    "nb_risks_path = Path(\"/Users/ahmedmansour/Desktop/Group-Project-3/Resources/risk_factors/nb_risks.csv\")\n",
    "nb_risks = pd.read_csv(nb_risks_path, encoding='ISO-8859-1', on_bad_lines='skip')\n",
    "\n",
    "nfl_risks_path = Path(\"/Users/ahmedmansour/Desktop/Group-Project-3/Resources/risk_factors/nfl_risks.csv\")\n",
    "nfl_risks = pd.read_csv(nfl_risks_path, encoding='ISO-8859-1', on_bad_lines='skip')\n",
    "\n",
    "ns_risks_path = Path(\"/Users/ahmedmansour/Desktop/Group-Project-3/Resources/risk_factors/ns_risks.csv\")\n",
    "ns_risks = pd.read_csv(ns_risks_path, encoding='ISO-8859-1', on_bad_lines='skip')\n",
    "\n",
    "ontario_risks_path = Path(\"/Users/ahmedmansour/Desktop/Group-Project-3/Resources/risk_factors/ontario_risks.csv\")\n",
    "ontario_risks = pd.read_csv(ontario_risks_path, encoding='ISO-8859-1', on_bad_lines='skip')\n",
    "\n",
    "pei_risks_path = Path(\"/Users/ahmedmansour/Desktop/Group-Project-3/Resources/risk_factors/pei_risks.csv\")\n",
    "pei_risks = pd.read_csv(pei_risks_path, encoding='ISO-8859-1', on_bad_lines='skip')\n",
    "\n",
    "quebec_risks_path = Path(\"/Users/ahmedmansour/Desktop/Group-Project-3/Resources/risk_factors/quebec_risks.csv\")\n",
    "quebec_risks = pd.read_csv(quebec_risks_path, encoding='ISO-8859-1', on_bad_lines='skip')\n",
    "\n",
    "sask_risks_path = Path(\"/Users/ahmedmansour/Desktop/Group-Project-3/Resources/risk_factors/sask_risks.csv\")\n",
    "sask_risks = pd.read_csv(sask_risks_path, encoding='ISO-8859-1', on_bad_lines='skip')\n",
    "\n"
   ]
  }
 ],
 "metadata": {
  "kernelspec": {
   "display_name": "base",
   "language": "python",
   "name": "python3"
  },
  "language_info": {
   "codemirror_mode": {
    "name": "ipython",
    "version": 3
   },
   "file_extension": ".py",
   "mimetype": "text/x-python",
   "name": "python",
   "nbconvert_exporter": "python",
   "pygments_lexer": "ipython3",
   "version": "3.12.4"
  }
 },
 "nbformat": 4,
 "nbformat_minor": 2
}
